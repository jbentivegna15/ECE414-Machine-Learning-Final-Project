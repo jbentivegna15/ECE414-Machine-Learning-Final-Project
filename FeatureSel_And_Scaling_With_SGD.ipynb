{
 "cells": [
  {
   "cell_type": "code",
   "execution_count": 1,
   "metadata": {
    "collapsed": true
   },
   "outputs": [],
   "source": [
    "#Playing with feature selection and scaling, duh\n",
    "#Jeremiah Pratt and Joseph Bentivegna\n",
    "#Dedicated to my mother, who always had one glass of wine too many and\n",
    "#always embarassed us at restaurants."
   ]
  },
  {
   "cell_type": "code",
   "execution_count": 5,
   "metadata": {
    "collapsed": true
   },
   "outputs": [],
   "source": [
    "import pandas as pd\n",
    "import numpy as np\n",
    "from sklearn import gaussian_process\n",
    "from sklearn import linear_model\n",
    "from sklearn.model_selection import KFold\n",
    "from sklearn.preprocessing import MinMaxScaler\n",
    "from sklearn.preprocessing import robust_scale\n",
    "from sklearn.preprocessing import PolynomialFeatures\n",
    "from sklearn import metrics\n",
    "from sklearn.discriminant_analysis import LinearDiscriminantAnalysis"
   ]
  },
  {
   "cell_type": "code",
   "execution_count": 6,
   "metadata": {
    "collapsed": true
   },
   "outputs": [],
   "source": [
    "trainyBoi = pd.read_csv('train.csv',header=None)\n",
    "testyBoi = pd.read_csv('test.csv',header=None)"
   ]
  },
  {
   "cell_type": "code",
   "execution_count": 7,
   "metadata": {},
   "outputs": [
    {
     "name": "stdout",
     "output_type": "stream",
     "text": [
      "0.554\n",
      "0.532\n"
     ]
    }
   ],
   "source": [
    "#Stochastic Gradient Descent\n",
    "X = trainyBoi.iloc[:,1:]\n",
    "X = robust_scale(X)\n",
    "Y = trainyBoi.iloc[:,0]\n",
    "kf = KFold(n_splits=2, shuffle=True)\n",
    "SGD = linear_model.SGDClassifier(loss=\"log\",penalty=\"l2\",tol=1e-3,max_iter=1000)\n",
    "for train_index, test_index in kf.split(X):\n",
    "    X_train, X_test = X[train_index], X[test_index]\n",
    "    Y_train, Y_test = Y[train_index], Y[test_index]\n",
    "    SGD.fit(X_train,Y_train)\n",
    "    print(SGD.score(X_test,Y_test))\n",
    "#print(metrics.confusion_matrix(Y_test,gp.predict(X_test)))"
   ]
  },
  {
   "cell_type": "code",
   "execution_count": 12,
   "metadata": {},
   "outputs": [
    {
     "name": "stdout",
     "output_type": "stream",
     "text": [
      "0.512\n",
      "0.588\n"
     ]
    }
   ],
   "source": [
    "X = trainyBoi.iloc[:,1:]\n",
    "scaler = PolynomialFeatures(3)\n",
    "X = scaler.fit_transform(X)\n",
    "for train_index, test_index in kf.split(X):\n",
    "    X_train, X_test = X[train_index], X[test_index]\n",
    "    Y_train, Y_test = Y[train_index], Y[test_index]\n",
    "    SGD.fit(X_train,Y_train)\n",
    "    print(SGD.score(X_test,Y_test))"
   ]
  },
  {
   "cell_type": "code",
   "execution_count": null,
   "metadata": {
    "collapsed": true
   },
   "outputs": [],
   "source": []
  }
 ],
 "metadata": {
  "kernelspec": {
   "display_name": "Python 3",
   "language": "python",
   "name": "python3"
  },
  "language_info": {
   "codemirror_mode": {
    "name": "ipython",
    "version": 3
   },
   "file_extension": ".py",
   "mimetype": "text/x-python",
   "name": "python",
   "nbconvert_exporter": "python",
   "pygments_lexer": "ipython3",
   "version": "3.6.2"
  }
 },
 "nbformat": 4,
 "nbformat_minor": 2
}
