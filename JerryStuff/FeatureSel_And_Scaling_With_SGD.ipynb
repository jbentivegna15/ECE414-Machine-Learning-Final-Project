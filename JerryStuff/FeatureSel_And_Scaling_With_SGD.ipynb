{
 "cells": [
  {
   "cell_type": "code",
   "execution_count": null,
   "metadata": {
    "collapsed": true
   },
   "outputs": [],
   "source": [
    "#Playing with feature selection and scaling, duh\n",
    "#Jeremiah Pratt and Joseph Bentivegna\n",
    "#Dedicated to my mother, who always had one glass of wine too many and\n",
    "#always embarassed us at restaurants."
   ]
  },
  {
   "cell_type": "code",
   "execution_count": 1,
   "metadata": {
    "collapsed": true
   },
   "outputs": [],
   "source": [
    "import pandas as pd\n",
    "import numpy as np\n",
    "from sklearn import gaussian_process\n",
    "from sklearn import linear_model\n",
    "from sklearn.model_selection import KFold\n",
    "from sklearn.preprocessing import MinMaxScaler\n",
    "from sklearn.preprocessing import robust_scale\n",
    "from sklearn.preprocessing import PolynomialFeatures\n",
    "from sklearn import metrics\n",
    "from sklearn.feature_selection import SelectKBest\n",
    "from sklearn.feature_selection import chi2"
   ]
  },
  {
   "cell_type": "code",
   "execution_count": 2,
   "metadata": {
    "collapsed": true
   },
   "outputs": [],
   "source": [
    "trainyBoi = pd.read_csv('train.csv',header=None)\n",
    "testyBoi = pd.read_csv('test.csv',header=None)"
   ]
  },
  {
   "cell_type": "code",
   "execution_count": 4,
   "metadata": {},
   "outputs": [
    {
     "name": "stdout",
     "output_type": "stream",
     "text": [
      "0.564\n",
      "0.538\n"
     ]
    }
   ],
   "source": [
    "#Stochastic Gradient Descent\n",
    "X = trainyBoi.iloc[:,1:]\n",
    "X = robust_scale(X)\n",
    "Y = trainyBoi.iloc[:,0]\n",
    "kf = KFold(n_splits=2, shuffle=True)\n",
    "SGD = linear_model.SGDClassifier(loss=\"log\",penalty=\"l2\",tol=1e-3,max_iter=1000)\n",
    "for train_index, test_index in kf.split(X):\n",
    "    X_train, X_test = X[train_index], X[test_index]\n",
    "    Y_train, Y_test = Y[train_index], Y[test_index]\n",
    "    SGD.fit(X_train,Y_train)\n",
    "    print(SGD.score(X_test,Y_test))\n",
    "#print(metrics.confusion_matrix(Y_test,gp.predict(X_test)))\n",
    "SGD.fit(X,Y)\n",
    "testyBoi = robust_scale(testyBoi)\n",
    "pred = pd.DataFrame(SGD.predict(testyBoi))\n",
    "pred.to_csv('results.csv',index_label=['Id','Prediction'],index=list(range(1,200)))"
   ]
  },
  {
   "cell_type": "code",
   "execution_count": null,
   "metadata": {},
   "outputs": [],
   "source": [
    "X = trainyBoi.iloc[:,1:]\n",
    "scaler = PolynomialFeatures(3)\n",
    "X = SelectKBest(chi2, k=100).fit_transform(X,Y)\n",
    "for train_index, test_index in kf.split(X):\n",
    "    X_train, X_test = X[train_index], X[test_index]\n",
    "    Y_train, Y_test = Y[train_index], Y[test_index]\n",
    "    SGD.fit(X_train,Y_train)\n",
    "    print(SGD.score(X_test,Y_test))"
   ]
  },
  {
   "cell_type": "code",
   "execution_count": null,
   "metadata": {},
   "outputs": [],
   "source": [
    "SGD.fit(X,Y)\n",
    "testyBoi = scaler.fit_transform(testyBoi)\n",
    "pred = pd.DataFrame(SGD.predict(testyBoi))\n",
    "pred.to_csv('results.csv',index_label=['Id','Prediction'],index=list(range(1,200)))"
   ]
  },
  {
   "cell_type": "code",
   "execution_count": null,
   "metadata": {
    "collapsed": true
   },
   "outputs": [],
   "source": []
  }
 ],
 "metadata": {
  "kernelspec": {
   "display_name": "Python 3",
   "language": "python",
   "name": "python3"
  },
  "language_info": {
   "codemirror_mode": {
    "name": "ipython",
    "version": 3
   },
   "file_extension": ".py",
   "mimetype": "text/x-python",
   "name": "python",
   "nbconvert_exporter": "python",
   "pygments_lexer": "ipython3",
   "version": "3.6.2"
  }
 },
 "nbformat": 4,
 "nbformat_minor": 2
}
