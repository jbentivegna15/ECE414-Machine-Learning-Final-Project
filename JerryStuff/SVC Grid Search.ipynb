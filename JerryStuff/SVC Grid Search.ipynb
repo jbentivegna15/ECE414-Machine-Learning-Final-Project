{
 "cells": [
  {
   "cell_type": "code",
   "execution_count": 2,
   "metadata": {
    "collapsed": true
   },
   "outputs": [],
   "source": [
    "import pandas as pd\n",
    "import numpy as np\n",
    "from sklearn import linear_model\n",
    "from sklearn import svm\n",
    "from sklearn import gaussian_process\n",
    "from sklearn import svm\n",
    "from sklearn.model_selection import KFold\n",
    "from sklearn.feature_selection import VarianceThreshold\n",
    "from sklearn.feature_selection import SelectKBest\n",
    "from sklearn.preprocessing import MinMaxScaler\n",
    "from sklearn.preprocessing import robust_scale\n",
    "from sklearn.preprocessing import PolynomialFeatures\n",
    "from sklearn.preprocessing import Normalizer\n",
    "from sklearn.preprocessing import StandardScaler\n",
    "from sklearn.model_selection import GridSearchCV"
   ]
  },
  {
   "cell_type": "code",
   "execution_count": null,
   "metadata": {
    "collapsed": true
   },
   "outputs": [],
   "source": [
    "trainyBoi = pd.read_csv('train.csv',header=None)\n",
    "testyBoi = pd.read_csv('test.csv',header=None)"
   ]
  },
  {
   "cell_type": "code",
   "execution_count": null,
   "metadata": {},
   "outputs": [],
   "source": [
    "#Logistic Regression\n",
    "scaler = MinMaxScaler()\n",
    "X = trainyBoi.iloc[:,1:]\n",
    "X = scaler.fit_transform(X)\n",
    "Y = trainyBoi.iloc[:,0]\n",
    "\n",
    "Cs = list(np.logspace(0,2))\n",
    "t = list(np.logspace(-7,-2))\n",
    "gam = list(np.logspace(-4,0))\n",
    "\n",
    "svc = svm.SVC()\n",
    "parameters = {'kernel':('poly','rbf','sigmoid'), 'C':Cs, 'tol':t, 'gamma':gam, }\n",
    "clf = GridSearchCV(svc, parameters,n_jobs = -1)\n",
    "\n",
    "clf.fit(X,Y)\n",
    "clf.score(X)\n",
    "\n",
    "#testyBoi = scaler.fit_transform(testyBoi)\n",
    "#pred = pd.DataFrame(logreg.predict(testyBoi))\n",
    "#pred.to_csv('results.csv',index_label=['Id','Prediction'],index=list(range(1,200)))"
   ]
  },
  {
   "cell_type": "code",
   "execution_count": null,
   "metadata": {},
   "outputs": [],
   "source": []
  },
  {
   "cell_type": "code",
   "execution_count": null,
   "metadata": {
    "collapsed": true
   },
   "outputs": [],
   "source": []
  }
 ],
 "metadata": {
  "kernelspec": {
   "display_name": "Python 3",
   "language": "python",
   "name": "python3"
  },
  "language_info": {
   "codemirror_mode": {
    "name": "ipython",
    "version": 3
   },
   "file_extension": ".py",
   "mimetype": "text/x-python",
   "name": "python",
   "nbconvert_exporter": "python",
   "pygments_lexer": "ipython3",
   "version": "3.6.2"
  }
 },
 "nbformat": 4,
 "nbformat_minor": 2
}
