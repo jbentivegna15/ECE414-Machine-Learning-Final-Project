{
 "cells": [
  {
   "cell_type": "code",
   "execution_count": 1,
   "metadata": {
    "collapsed": true
   },
   "outputs": [],
   "source": [
    "#ML Final Project Kaggle Competition\n",
    "#By Jeremiah Pratt and Joseph Bentivegna\n",
    "#Dedicated to my mother, who always withheld affection and told me I'd never make anything of myself."
   ]
  },
  {
   "cell_type": "code",
   "execution_count": 87,
   "metadata": {},
   "outputs": [],
   "source": [
    "import pandas as pd\n",
    "import numpy as np\n",
    "from sklearn import linear_model\n",
    "from sklearn.model_selection import KFold\n",
    "from sklearn.preprocessing import MinMaxScaler\n",
    "from sklearn import metrics"
   ]
  },
  {
   "cell_type": "code",
   "execution_count": 61,
   "metadata": {},
   "outputs": [],
   "source": [
    "trainyBoi = pd.read_csv('train.csv',header=None)\n",
    "testyBoi = pd.read_csv('test.csv',header=None)"
   ]
  },
  {
   "cell_type": "code",
   "execution_count": 106,
   "metadata": {},
   "outputs": [
    {
     "name": "stdout",
     "output_type": "stream",
     "text": [
      "0.6\n",
      "0.605\n",
      "0.645\n",
      "0.545\n",
      "0.645\n",
      "[[ 8  0  0  0  3  0  1  0  0  2]\n",
      " [ 0 19  0  0  3  1  0  0  0  1]\n",
      " [ 0  0  9  1  2  1  0  0  5  0]\n",
      " [ 0  1  1 18  1  2  1  0  2  0]\n",
      " [ 2  0  2  0 17  1  0  0  1  1]\n",
      " [ 0  0  1  0  0 13  0  0  0  1]\n",
      " [ 0  0  0  1  0  1 11  0  0  1]\n",
      " [ 1  0  1  1  0  0  1 14  1  2]\n",
      " [ 5  1  4  0  0  0  1  0  5  1]\n",
      " [ 1  0  1  3  0  1  2  3  1 15]]\n"
     ]
    }
   ],
   "source": [
    "scaler = MinMaxScaler()\n",
    "X = trainyBoi.iloc[:,1:]\n",
    "X = scaler.fit_transform(X)\n",
    "Y = trainyBoi.iloc[:,0]\n",
    "kf = KFold(n_splits=5, shuffle=True)\n",
    "logreg = linear_model.LogisticRegression(penalty='l2',C=1,solver='newton-cg',max_iter=1000)\n",
    "for train_index, test_index in kf.split(X):\n",
    "    X_train, X_test = X[train_index], X[test_index]\n",
    "    Y_train, Y_test = Y[train_index], Y[test_index]\n",
    "    logreg.fit(X_train,Y_train)\n",
    "    print(logreg.score(X_test,Y_test))\n",
    "print(metrics.confusion_matrix(Y_test,logreg.predict(X_test)))"
   ]
  },
  {
   "cell_type": "code",
   "execution_count": null,
   "metadata": {},
   "outputs": [],
   "source": []
  },
  {
   "cell_type": "code",
   "execution_count": null,
   "metadata": {
    "collapsed": true
   },
   "outputs": [],
   "source": []
  }
 ],
 "metadata": {
  "kernelspec": {
   "display_name": "Python 3",
   "language": "python",
   "name": "python3"
  },
  "language_info": {
   "codemirror_mode": {
    "name": "ipython",
    "version": 3
   },
   "file_extension": ".py",
   "mimetype": "text/x-python",
   "name": "python",
   "nbconvert_exporter": "python",
   "pygments_lexer": "ipython3",
   "version": "3.6.2"
  }
 },
 "nbformat": 4,
 "nbformat_minor": 2
}
