{
 "cells": [
  {
   "cell_type": "code",
   "execution_count": 1,
   "metadata": {
    "collapsed": true
   },
   "outputs": [],
   "source": [
    "#ML Final Project Kaggle Competition\n",
    "#By Jeremiah Pratt and Joseph Bentivegna\n",
    "#Dedicated to my mother, who wouldn't hurt a fly but instead would get my father\n",
    "#to kill it."
   ]
  },
  {
   "cell_type": "code",
   "execution_count": 2,
   "metadata": {
    "collapsed": true
   },
   "outputs": [],
   "source": [
    "import pandas as pd\n",
    "import numpy as np\n",
    "from sklearn import svm\n",
    "from sklearn.model_selection import KFold\n",
    "from sklearn.preprocessing import MinMaxScaler\n",
    "from sklearn import metrics\n",
    "from sklearn.preprocessing import PolynomialFeatures"
   ]
  },
  {
   "cell_type": "code",
   "execution_count": 3,
   "metadata": {},
   "outputs": [],
   "source": [
    "trainyBoi = pd.read_csv('train.csv',header=None)\n",
    "testyBoi = pd.read_csv('test.csv',header=None)"
   ]
  },
  {
   "cell_type": "code",
   "execution_count": 23,
   "metadata": {},
   "outputs": [
    {
     "name": "stdout",
     "output_type": "stream",
     "text": [
      "0.604790419162\n",
      "0.618618618619\n",
      "0.582582582583\n",
      "[[13  0  1  0  9  1  4  0  8  1]\n",
      " [ 2 18  0  1  1  2  3  0  2  2]\n",
      " [ 3  0 16  1  5  1  0  1  5  3]\n",
      " [ 1  1  0 20  1  0  2  2  1  0]\n",
      " [ 5  0  6  0 21  0  0  0  1  0]\n",
      " [ 1  2  0  3  0 28  0  0  0  0]\n",
      " [ 7  0  1  2  0  0 26  0  0  1]\n",
      " [ 2  0  1  0  1  0  0 19  2  5]\n",
      " [ 8  0  7  1  2  1  0  0 10  4]\n",
      " [ 1  1  1  0  1  1  2  3  2 23]]\n"
     ]
    }
   ],
   "source": [
    "scaler = MinMaxScaler()\n",
    "#poly = PolynomialFeatures(2)\n",
    "X = trainyBoi.iloc[:,1:]\n",
    "X = scaler.fit_transform(X)\n",
    "#X = poly.fit_transform(X)\n",
    "Y = trainyBoi.iloc[:,0]\n",
    "kf = KFold(n_splits=3, shuffle=True)\n",
    "clf = svm.SVC(C=5, decision_function_shape='ovr')\n",
    "for train_index, test_index in kf.split(X):\n",
    "    X_train, X_test = X[train_index], X[test_index]\n",
    "    Y_train, Y_test = Y[train_index], Y[test_index]\n",
    "    clf.fit(X_train,Y_train)\n",
    "    print(clf.score(X_test,Y_test))\n",
    "print(metrics.confusion_matrix(Y_test,clf.predict(X_test)))\n",
    "\n",
    "clf.fit(X,Y)\n",
    "testyBoi = scaler.fit_transform(testyBoi)\n",
    "predictions = clf.predict(testyBoi)\n",
    "pred = pd.DataFrame(predictions)\n",
    "pred.to_csv('output.csv')"
   ]
  },
  {
   "cell_type": "code",
   "execution_count": null,
   "metadata": {
    "collapsed": true
   },
   "outputs": [],
   "source": []
  },
  {
   "cell_type": "code",
   "execution_count": null,
   "metadata": {
    "collapsed": true
   },
   "outputs": [],
   "source": []
  }
 ],
 "metadata": {
  "kernelspec": {
   "display_name": "Python 3",
   "language": "python",
   "name": "python3"
  },
  "language_info": {
   "codemirror_mode": {
    "name": "ipython",
    "version": 3
   },
   "file_extension": ".py",
   "mimetype": "text/x-python",
   "name": "python",
   "nbconvert_exporter": "python",
   "pygments_lexer": "ipython3",
   "version": "3.6.1"
  }
 },
 "nbformat": 4,
 "nbformat_minor": 2
}
