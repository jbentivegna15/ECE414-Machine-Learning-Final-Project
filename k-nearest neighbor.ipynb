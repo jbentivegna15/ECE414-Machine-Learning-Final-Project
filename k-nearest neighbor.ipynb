{
 "cells": [
  {
   "cell_type": "code",
   "execution_count": 1,
   "metadata": {
    "collapsed": true
   },
   "outputs": [],
   "source": [
    "#ML Final Project Kaggle Competition\n",
    "#By Jeremiah Pratt and Joseph Bentivegna\n",
    "#Dedicated to my mother, who would yell at me for not picking my clothes up off\n",
    "#of my own bedroom floor."
   ]
  },
  {
   "cell_type": "code",
   "execution_count": 2,
   "metadata": {},
   "outputs": [],
   "source": [
    "import pandas as pd\n",
    "import numpy as np\n",
    "from sklearn.neighbors import KNeighborsClassifier\n",
    "from sklearn.model_selection import KFold\n",
    "from sklearn.preprocessing import MinMaxScaler\n",
    "from sklearn import metrics\n",
    "from sklearn.preprocessing import PolynomialFeatures"
   ]
  },
  {
   "cell_type": "code",
   "execution_count": 3,
   "metadata": {
    "collapsed": true
   },
   "outputs": [],
   "source": [
    "trainyBoi = pd.read_csv('train.csv',header=None)\n",
    "testyBoi = pd.read_csv('test.csv',header=None)"
   ]
  },
  {
   "cell_type": "code",
   "execution_count": 4,
   "metadata": {},
   "outputs": [
    {
     "name": "stdout",
     "output_type": "stream",
     "text": [
      "0.553892215569\n",
      "0.600600600601\n",
      "0.51951951952\n",
      "[[11  1  1  2  4  1  5  2  1  3]\n",
      " [ 4 13  0  3  1  3  3  0  1  0]\n",
      " [ 6  0 19  0  5  0  5  3  2  2]\n",
      " [ 3  1  0 23  0  0  7  0  1  0]\n",
      " [ 9  0  4  0 16  0  3  0  0  1]\n",
      " [ 0  0  0  3  0 21  0  0  1  0]\n",
      " [ 4  0  0  2  0  0 28  0  0  0]\n",
      " [ 6  2  1  0  1  0  1 20  2  4]\n",
      " [13  1  6  1  0  0  2  0  9  3]\n",
      " [ 4  4  0  1  1  0  6  4  0 13]]\n"
     ]
    }
   ],
   "source": [
    "scaler = MinMaxScaler()\n",
    "poly = PolynomialFeatures(2)\n",
    "X = trainyBoi.iloc[:,1:]\n",
    "X = scaler.fit_transform(X)\n",
    "X = poly.fit_transform(X)\n",
    "Y = trainyBoi.iloc[:,0]\n",
    "kf = KFold(n_splits=3, shuffle=True)\n",
    "knn = KNeighborsClassifier(algorithm='auto')\n",
    "for train_index, test_index in kf.split(X):\n",
    "    X_train, X_test = X[train_index], X[test_index]\n",
    "    Y_train, Y_test = Y[train_index], Y[test_index]\n",
    "    knn.fit(X_train,Y_train)\n",
    "    print(knn.score(X_test,Y_test))\n",
    "print(metrics.confusion_matrix(Y_test,knn.predict(X_test)))"
   ]
  },
  {
   "cell_type": "code",
   "execution_count": null,
   "metadata": {
    "collapsed": true
   },
   "outputs": [],
   "source": []
  }
 ],
 "metadata": {
  "kernelspec": {
   "display_name": "Python 3",
   "language": "python",
   "name": "python3"
  },
  "language_info": {
   "codemirror_mode": {
    "name": "ipython",
    "version": 3
   },
   "file_extension": ".py",
   "mimetype": "text/x-python",
   "name": "python",
   "nbconvert_exporter": "python",
   "pygments_lexer": "ipython3",
   "version": "3.6.1"
  }
 },
 "nbformat": 4,
 "nbformat_minor": 2
}
